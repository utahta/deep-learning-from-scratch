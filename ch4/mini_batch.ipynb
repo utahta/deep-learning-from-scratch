{
 "cells": [
  {
   "cell_type": "code",
   "execution_count": 11,
   "metadata": {
    "collapsed": false
   },
   "outputs": [
    {
     "name": "stdout",
     "output_type": "stream",
     "text": [
      "(60000, 784)\n",
      "(60000, 10)\n",
      "[ 4355   355 56007 29499  5543 57991 28973 58231 46469 51305]\n",
      "1\n",
      "(4,)\n",
      "(1, 4)\n"
     ]
    }
   ],
   "source": [
    "import sys, os\n",
    "sys.path.append(os.pardir)\n",
    "from dataset.mnist import load_mnist\n",
    "import numpy as np\n",
    "\n",
    "(x_train, t_train), (x_test, t_test) = load_mnist(normalize=True, one_hot_label=True)\n",
    "\n",
    "print(x_train.shape)\n",
    "print(t_train.shape)\n",
    "\n",
    "train_size = x_train.shape[0]\n",
    "batch_size = 10\n",
    "batch_mask = np.random.choice(train_size, batch_size)\n",
    "print(batch_mask)\n",
    "\n",
    "# reshape かくにん\n",
    "y = np.array([0, 1, 2, 3])\n",
    "print(y.ndim)\n",
    "print(y.shape)\n",
    "y = y.reshape(1, y.size)\n",
    "print(y.shape)"
   ]
  },
  {
   "cell_type": "code",
   "execution_count": 60,
   "metadata": {
    "collapsed": false
   },
   "outputs": [
    {
     "name": "stdout",
     "output_type": "stream",
     "text": [
      "(1, 8)\n",
      "(1, 8)\n",
      "(2,)\n",
      "1\n",
      "(1, 8)\n",
      "[[0 1 2 3 4 5 6 7]]\n",
      "[[7 1 2 3 4 5 6 0]]\n"
     ]
    }
   ],
   "source": [
    "# 交差エントロピー誤差\n",
    "def cross_entropy_error(y, t):\n",
    "    if y.ndim == 1:\n",
    "        t = t.reshape(1, t.size)\n",
    "        y = y.reshape(1, y.size)\n",
    "    \n",
    "    batch_size = y.shape[0]\n",
    "    return -np.sum(t * np.log(y)) / batch_size\n",
    "    # one-hot表現ではなくラベルで教師データが与えられたときは\n",
    "    #return -np.sum(t * np.log(y[np.arange(batch_size), t])) / batch_size\n",
    "\n",
    "# np.arange あたりのかくにん\n",
    "# y = np.array([[0, 1, 2, 3], [4, 5, 6, 7]])\n",
    "# t = np.array([[0, 1, 2, 3], [4, 5, 6, 7]]) # これはうまくいかない\n",
    "y = np.array([[0, 1, 2, 3, 4, 5, 6, 7]])\n",
    "t = np.array([[7, 1, 2, 3, 4, 5, 6, 0]])\n",
    "print(y.shape)\n",
    "print(t.shape)\n",
    "print(np.array([1,2]).shape)\n",
    "\n",
    "batch_size = y.shape[0]\n",
    "print(batch_size)\n",
    "a = np.arange(batch_size)\n",
    "print(y[a].shape)\n",
    "print(y[a])\n",
    "v = y[a, t]\n",
    "print(v)\n"
   ]
  }
 ],
 "metadata": {
  "anaconda-cloud": {},
  "kernelspec": {
   "display_name": "Python [conda root]",
   "language": "python",
   "name": "conda-root-py"
  },
  "language_info": {
   "codemirror_mode": {
    "name": "ipython",
    "version": 3
   },
   "file_extension": ".py",
   "mimetype": "text/x-python",
   "name": "python",
   "nbconvert_exporter": "python",
   "pygments_lexer": "ipython3",
   "version": "3.5.2"
  }
 },
 "nbformat": 4,
 "nbformat_minor": 1
}
